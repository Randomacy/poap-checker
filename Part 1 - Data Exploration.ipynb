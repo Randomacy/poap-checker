{
 "cells": [
  {
   "cell_type": "markdown",
   "id": "cd0a6076",
   "metadata": {},
   "source": [
    "# Introduction\n",
    "POAPs, or Proof of Attendance Protocol tokens, are digital collectibles that utilize blockchain technology to provide verifiable proof of attendance or participation in events. These unique tokens are distributed to attendees and stored in digital wallets, serving as badges of honor and fostering a sense of community.\n",
    "\n",
    "By leveraging the transparency and security of blockchain, POAPs offer a decentralized and tamper-proof way to reward and acknowledge event participants, creating new opportunities for engagement and recognition in various industries.\n",
    "\n",
    "To acquire POAPs, individuals can participate in various events that support the Proof of Attendance Protocol. Event organizers typically provide instructions on how to obtain these digital collectibles. This may involve registering for the event, attending physically or virtually, and scanning QR codes or completing specific actions. \n",
    "\n",
    "Once the requirements are met, participants receive the POAP tokens directly into their digital wallets, enabling them to showcase their attendance and participation in different events across a wide range of communities.\n",
    "\n",
    "## Challenge\n",
    "Organizers can create and distribute POAPs for their events by following a straightforward process. First, they need to deploy a smart contract on a blockchain platform that supports the Proof of Attendance Protocol. Then, they can generate unique POAP tokens with metadata containing event details, such as the name, date, and location. \n",
    "\n",
    "Organizers typically distribute these tokens to attendees through registration systems, event check-ins, or by sharing unique QR codes. \n",
    "\n",
    "However, sometimes a kiosk is used and you want to check which are the remaining codes that you can use to send to folks in your email service.\n",
    "\n",
    "Currently, there is no reliable way of checking whether a POAP link has been used or otherwise. In this project, we try to identify links that have not been redeemed, and make it easier for organisers to check! "
   ]
  },
  {
   "cell_type": "code",
   "execution_count": null,
   "id": "b08d3a34",
   "metadata": {},
   "outputs": [],
   "source": [
    "# import the libraries\n",
    "import requests"
   ]
  },
  {
   "cell_type": "code",
   "execution_count": null,
   "id": "1c3c2afe",
   "metadata": {},
   "outputs": [],
   "source": [
    "# read the .txt file containing the POAPs\n",
    "with open('placeholder.txt') as f:\n",
    "    lines = f.readlines()\n",
    "    lines = [l.strip() for l in lines]"
   ]
  },
  {
   "cell_type": "markdown",
   "id": "9630b38f",
   "metadata": {},
   "source": [
    "Assuming you're using the txt file which you get from the POAP team, when you print lines, you'll see something like this:\n",
    "\n",
    "```\n",
    "['http://POAP.xyz/claim/xxxxxx',\n",
    " 'http://POAP.xyz/claim/xxxxxx',\n",
    " 'http://POAP.xyz/claim/xxxxxx',\n",
    " ...\n",
    " 'http://POAP.xyz/claim/xxxxxx',\n",
    " 'http://POAP.xyz/claim/xxxxxx',\n",
    " 'http://POAP.xyz/claim/xxxxxx']\n",
    "```\n",
    "\n",
    "What you see is the link that you can use to claim your POAP"
   ]
  },
  {
   "cell_type": "code",
   "execution_count": null,
   "id": "fa99e44e",
   "metadata": {},
   "outputs": [],
   "source": [
    "# retrieve the first link\n",
    "first_url = lines[0]"
   ]
  },
  {
   "cell_type": "markdown",
   "id": "8b520816",
   "metadata": {},
   "source": [
    "We then remove everthing but the hash, and use that for the API endpoint"
   ]
  },
  {
   "cell_type": "code",
   "execution_count": null,
   "id": "ea2c53e2",
   "metadata": {},
   "outputs": [],
   "source": [
    "# retrieve the hash\n",
    "poap_hash = first_url.replace(\"http://POAP.xyz/claim/\", \"\")"
   ]
  },
  {
   "cell_type": "code",
   "execution_count": null,
   "id": "3d737306",
   "metadata": {},
   "outputs": [],
   "source": [
    "# declare the API endpoint that contains the information about the POAP\n",
    "api_endpoint = \"https://frontend.poap.tech/actions/claim-qr?qr_hash=\""
   ]
  },
  {
   "cell_type": "code",
   "execution_count": null,
   "id": "75fee72a",
   "metadata": {},
   "outputs": [],
   "source": [
    "# declare headers\n",
    "headers = {'User-Agent': 'Mozilla/5.0 (Linux; Android 6.0; Nexus 5 Build/MRA58N) AppleWebKit/537.36 (KHTML, like Gecko) Chrome/113.0.0.0 Mobile Safari/537.36'}"
   ]
  },
  {
   "cell_type": "code",
   "execution_count": null,
   "id": "9ca9e0a0",
   "metadata": {},
   "outputs": [],
   "source": [
    "# make a get call using the endpoint with the poap_hash\n",
    "test_res = requests.get(api_endpoint + poap_hash, headers = headers)\n",
    "test_res"
   ]
  },
  {
   "cell_type": "markdown",
   "id": "f6616116",
   "metadata": {},
   "source": [
    "Success! If everything goes well, your response looks something like this:\n",
    "\n",
    "```\n",
    "{'id': 12345678,\n",
    " 'qr_hash': 'xxxxxx',\n",
    " 'tx_hash': '',\n",
    " 'event_id': 123456,\n",
    " 'beneficiary': '',\n",
    " 'user_input': '',\n",
    " 'signer': '',\n",
    " 'claimed': False,\n",
    " 'claimed_date': '',\n",
    " 'created_date': '2023-01-01T00:00:00.006Z',\n",
    " 'is_active': True,\n",
    " 'secret': 'xxx',\n",
    " 'event': {'id': 123456,\n",
    "  'fancy_id': 'xxx',\n",
    "  'name': 'xxx\",\n",
    "  'location_type': 'VIRTUAL',\n",
    "  'city': '',\n",
    "  'country': '',\n",
    "  'channel': 'xxx',\n",
    "  'platform': 'xxx',\n",
    "  'event_url': 'xxx',\n",
    "  'image_url': 'xxx',\n",
    "  'animation_url': '',\n",
    "  'year': 2023,\n",
    "  'start_date': '01-Jan-2023',\n",
    "  'end_date': '01-Jan-2023',\n",
    "  'expiry_date': '01-Feb-2023',\n",
    "  'timezone': 'Asia/Singapore',\n",
    "  'from_admin': False,\n",
    "  'virtual_event': True,\n",
    "  'event_template_id': None,\n",
    "  'private_event': False},\n",
    " 'event_template': None,\n",
    " 'tx_status': '',\n",
    " 'delegated_mint': False,\n",
    " 'delegated_signed_message': ''}\n",
    "```\n",
    "\n",
    "What we want to focus on is a few things, e.g., ```user_input```, ```claimed```, and ```signer```, because POAPs redeemed will show that claimed is True"
   ]
  },
  {
   "cell_type": "code",
   "execution_count": null,
   "id": "e2b53a58",
   "metadata": {},
   "outputs": [],
   "source": [
    "# print out the JSON\n",
    "test_res.json()"
   ]
  },
  {
   "cell_type": "code",
   "execution_count": null,
   "id": "e3c2255a",
   "metadata": {
    "scrolled": false
   },
   "outputs": [],
   "source": [
    "# loop through the list and retrieve the claimed status\n",
    "for line in lines:\n",
    "    temp_hash = line.replace(\"http://POAP.xyz/claim/\", \"\")\n",
    "    temp_endpoint = api_endpoint + temp_hash\n",
    "    temp_res = requests.get(temp_endpoint,\n",
    "                            headers = headers)\n",
    "    temp_json = temp_res.json()\n",
    "    if temp_json['claimed']:\n",
    "        print(line, \"is claimed\")\n",
    "    else:\n",
    "        print(line, \"is still ok\")"
   ]
  },
  {
   "cell_type": "markdown",
   "id": "4d025247",
   "metadata": {},
   "source": [
    "Example output: \n",
    "\n",
    "```\n",
    "http://POAP.xyz/claim/xxxxxx is still ok\n",
    "http://POAP.xyz/claim/xxxxxx is still ok\n",
    "http://POAP.xyz/claim/xxxxxx is still ok\n",
    "http://POAP.xyz/claim/xxxxxx is still ok\n",
    "http://POAP.xyz/claim/xxxxxx is still ok\n",
    "http://POAP.xyz/claim/xxxxxx is claimed\n",
    "http://POAP.xyz/claim/xxxxxx is still ok\n",
    "http://POAP.xyz/claim/xxxxxx is still ok\n",
    "http://POAP.xyz/claim/xxxxxx is claimed\n",
    "http://POAP.xyz/claim/xxxxxx is still ok\n",
    "http://POAP.xyz/claim/xxxxxx is still ok\n",
    "http://POAP.xyz/claim/xxxxxx is claimed\n",
    "http://POAP.xyz/claim/xxxxxx is still ok\n",
    "http://POAP.xyz/claim/xxxxxx is claimed\n",
    "http://POAP.xyz/claim/xxxxxx is still ok\n",
    "http://POAP.xyz/claim/xxxxxx is claimed\n",
    "http://POAP.xyz/claim/xxxxxx is still ok\n",
    "http://POAP.xyz/claim/xxxxxx is still ok\n",
    "http://POAP.xyz/claim/xxxxxx is still ok\n",
    "http://POAP.xyz/claim/xxxxxx is claimed\n",
    "```"
   ]
  }
 ],
 "metadata": {
  "kernelspec": {
   "display_name": "Python 3 (ipykernel)",
   "language": "python",
   "name": "python3"
  },
  "language_info": {
   "codemirror_mode": {
    "name": "ipython",
    "version": 3
   },
   "file_extension": ".py",
   "mimetype": "text/x-python",
   "name": "python",
   "nbconvert_exporter": "python",
   "pygments_lexer": "ipython3",
   "version": "3.9.7"
  }
 },
 "nbformat": 4,
 "nbformat_minor": 5
}
